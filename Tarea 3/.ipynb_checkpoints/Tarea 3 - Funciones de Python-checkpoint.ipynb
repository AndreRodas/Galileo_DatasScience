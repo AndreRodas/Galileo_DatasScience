{
 "cells": [
  {
   "cell_type": "markdown",
   "metadata": {},
   "source": [
    "# Tarea 3\n",
    "\n"
   ]
  },
  {
   "cell_type": "markdown",
   "metadata": {},
   "source": [
    "**Funciones**: \n",
    "Tambien llamadas sub-rutinas, procedimientos o metodos en otros lenguajes, esta tarea consiste en investigar:\n",
    "* funciones en Python \n",
    "* parametros posisionales \n",
    "* parametros nombrados \n",
    "* retorno de multiples valores\n",
    "* funciones como objetos y como parametros de otras funciones\n",
    "* funciones anonimas o lambda|"
   ]
  },
  {
   "cell_type": "markdown",
   "metadata": {},
   "source": [
    "### Funciones en Python\n",
    "\n",
    "Bloque de codigo que recibe de cero o más argumentos de entrada, ejecutando una opreación deceada y devolviendo o no un valor. El objetivo el la segmentar algo complejo en módulos más simples (modularización). Así como la reutilización del código. \n",
    "\n",
    "> La sentencia utilizada en Python para crear una función es **def**\n",
    "\n",
    "La función puede retornar algo mediante la palabra reservada **return** o bien, no colocar nada y se ejecutará como un procedimiento. \n",
    "\n",
    "#### Ejemplificación"
   ]
  },
  {
   "cell_type": "code",
   "execution_count": 15,
   "metadata": {},
   "outputs": [
    {
     "name": "stdout",
     "output_type": "stream",
     "text": [
      "Perdiste, intenta de nuevo\n"
     ]
    }
   ],
   "source": [
    "import random as r\n",
    "\n",
    "def adivina_1_al_3(a):\n",
    "    if a == r.randint(1,3):\n",
    "        print(\"Bravo\")\n",
    "    else:\n",
    "        print(\"Perdiste, intenta de nuevo\")\n",
    "        \n",
    "adivina_1_al_3(2)"
   ]
  },
  {
   "cell_type": "markdown",
   "metadata": {},
   "source": [
    "### Parámetros posicionales\n",
    "\n",
    "Los parámeros posicionales se dan cuando en nuestra función se encuentran ordenados los argumentos para dar un resultado. Es decir tenemos la función `def function(a,b,c)`, en donde el primer parámetro es a, el segundo es b y el tercero c. Siendo así mapeados los valores a sus respectivos parámetros.\n",
    "\n",
    "\n",
    "#### Ejemplificación"
   ]
  },
  {
   "cell_type": "code",
   "execution_count": 13,
   "metadata": {},
   "outputs": [
    {
     "data": {
      "text/plain": [
       "3"
      ]
     },
     "execution_count": 13,
     "metadata": {},
     "output_type": "execute_result"
    }
   ],
   "source": [
    "def f(x,y,z):\n",
    "    return x*y+z\n",
    "f(1,1,2)"
   ]
  },
  {
   "cell_type": "markdown",
   "metadata": {},
   "source": [
    "### Parámetros nombrados\n",
    "\n",
    "Python es uno de los lenguajes que soporta *keyword arguments*. Lo que significa que podemos asignar los valores a los parámetros sin necesidad de ir en orden (como el ejemplo pasado), siempre y cuando hagamos mención de ellos. \n",
    "\n",
    "#### Ejemplificación"
   ]
  },
  {
   "cell_type": "code",
   "execution_count": 14,
   "metadata": {},
   "outputs": [
    {
     "data": {
      "text/plain": [
       "2"
      ]
     },
     "execution_count": 14,
     "metadata": {},
     "output_type": "execute_result"
    }
   ],
   "source": [
    "#Usando un ejemplo parecido al anterior vamos a invocar la función f\n",
    "f(z=1,x=1,y=1)"
   ]
  },
  {
   "cell_type": "markdown",
   "metadata": {},
   "source": [
    "El lenguaje durante el run-time tienen suficiente tiempo para asignarle valor a cada argumento."
   ]
  },
  {
   "cell_type": "code",
   "execution_count": 19,
   "metadata": {},
   "outputs": [
    {
     "data": {
      "text/plain": [
       "4"
      ]
     },
     "execution_count": 19,
     "metadata": {},
     "output_type": "execute_result"
    }
   ],
   "source": [
    "#Cabe mencionar que también podemos colocar valores default si los ponemos al inicio de la definición de la función\n",
    "\n",
    "def g(x,y=2):\n",
    "    return x*y\n",
    "g(2)"
   ]
  },
  {
   "cell_type": "markdown",
   "metadata": {},
   "source": [
    "### Retorno de valores multiples\n",
    "\n",
    "Existen varias formas que las funciones nos permiten devolver múltiples valores:\n",
    "\n",
    "1. Devolviendo un objeto\n",
    "    - Es necsario crear un constructor primero `def __init__(self):` y en el definir los atributos que lo componenen\n",
    "1. En forma de tupla\n",
    "    - Separando mediante una coma los argumentos\n",
    "1. En forma de lista\n",
    "    - Utilizando square brackets\n",
    "1. En forma de diccionario\n",
    "    - Retornando un objeto de tipo `dict()`\n",
    "\n",
    "\n",
    "#### Ejemplificación con tupla (más común)"
   ]
  },
  {
   "cell_type": "code",
   "execution_count": 17,
   "metadata": {},
   "outputs": [
    {
     "data": {
      "text/plain": [
       "(4, 8)"
      ]
     },
     "execution_count": 17,
     "metadata": {},
     "output_type": "execute_result"
    }
   ],
   "source": [
    "def h(a,b):\n",
    "    a2 = a**2\n",
    "    b2 = b**3\n",
    "    return a2,b2\n",
    "\n",
    "h(2,2)"
   ]
  },
  {
   "cell_type": "markdown",
   "metadata": {},
   "source": [
    "### Funciones como objetos y como parametros de otras funciones\n",
    " \n",
    "*Funciones como objetos*\n",
    "\n",
    "Las funciones son un objeto de primera-clase. Se le pueden asignar variables, estructuras de datos, pasar como argumentos de otras funciones, e inclusive retonarlos como valores de otras funciones. \n",
    "\n",
    "Es importante recordar que Python es un programa es representado por objetos o relaciones entre objetos. \n",
    "\n",
    "*Funciones como parámetros de otras funciones*\n",
    "\n",
    "En Python si es posible que una función sea el argumento de otra función. \n",
    "\n",
    ">Es imporntante recordar que existe `*args` y `**kargs`. \n",
    "\n",
    "#### Ejemplificación"
   ]
  },
  {
   "cell_type": "code",
   "execution_count": 24,
   "metadata": {},
   "outputs": [
    {
     "name": "stdout",
     "output_type": "stream",
     "text": [
      "HOLA\n",
      "ADIOS\n",
      "ADIOS\n"
     ]
    },
    {
     "ename": "NameError",
     "evalue": "name 'hola' is not defined",
     "output_type": "error",
     "traceback": [
      "\u001b[1;31m---------------------------------------------------------------------------\u001b[0m",
      "\u001b[1;31mNameError\u001b[0m                                 Traceback (most recent call last)",
      "\u001b[1;32m<ipython-input-24-451de3f61291>\u001b[0m in \u001b[0;36m<module>\u001b[1;34m\u001b[0m\n\u001b[0;32m     13\u001b[0m \u001b[1;32mdel\u001b[0m \u001b[0mhola\u001b[0m\u001b[1;33m\u001b[0m\u001b[1;33m\u001b[0m\u001b[0m\n\u001b[0;32m     14\u001b[0m \u001b[0mprint\u001b[0m\u001b[1;33m(\u001b[0m\u001b[0madios\u001b[0m\u001b[1;33m(\u001b[0m\u001b[1;34m\"adios\"\u001b[0m\u001b[1;33m)\u001b[0m\u001b[1;33m)\u001b[0m\u001b[1;33m\u001b[0m\u001b[1;33m\u001b[0m\u001b[0m\n\u001b[1;32m---> 15\u001b[1;33m \u001b[0mprint\u001b[0m\u001b[1;33m(\u001b[0m\u001b[0mhola\u001b[0m\u001b[1;33m(\u001b[0m\u001b[1;34m\"hola\"\u001b[0m\u001b[1;33m)\u001b[0m\u001b[1;33m)\u001b[0m\u001b[1;33m\u001b[0m\u001b[1;33m\u001b[0m\u001b[0m\n\u001b[0m\u001b[0;32m     16\u001b[0m \u001b[1;33m\u001b[0m\u001b[0m\n\u001b[0;32m     17\u001b[0m \u001b[1;33m\u001b[0m\u001b[0m\n",
      "\u001b[1;31mNameError\u001b[0m: name 'hola' is not defined"
     ]
    }
   ],
   "source": [
    "#Funciones como objetos\n",
    "\n",
    "def hola(text):\n",
    "    return text.upper() \n",
    "\n",
    "print(hola(\"hola\"))\n",
    "\n",
    "#Todo normal, ahora hagamos que adios se apunte a la función hola\n",
    "adios = hola\n",
    "print(adios(\"adios\"))\n",
    "\n",
    "#Eliminamos hola e imprimimos las dos funciones\n",
    "del hola\n",
    "print(adios(\"adios\"))\n",
    "print(hola(\"hola\"))\n",
    "\n",
    "#Solamente eliminamos la referencia de hola, pero sigue existiendo el bloque de código dentro del código de Python"
   ]
  },
  {
   "cell_type": "code",
   "execution_count": 28,
   "metadata": {},
   "outputs": [
    {
     "name": "stdout",
     "output_type": "stream",
     "text": [
      "SAYONARA!\n"
     ]
    }
   ],
   "source": [
    "#Funciones como parámetros de otras funciones\n",
    "\n",
    "def adios(text):\n",
    "    return text.upper() + '!'\n",
    "\n",
    "def hola(fun_adios):\n",
    "    intermedio = fun_adios('sayonara')\n",
    "    print(intermedio)\n",
    "\n",
    "    \n",
    "hola(adios)"
   ]
  },
  {
   "cell_type": "markdown",
   "metadata": {},
   "source": [
    "### funciones anonimas o lambdas\n",
    "\n",
    "Es una keyword que provee un atajo para declarar pequeñas y anonimas funciones. Se comportan como funciones normales. El objetivo es simplificar aún más el código. No pueden usar declaraciones regulares de Python y siempre inclyen una sentencia de retorno implicita. \n",
    "\n",
    "> No dejarse engañar, lambda no es un `def`\n",
    "\n",
    "Se utiliza regularmente para suministrar a una función una *función como objeto*. \n",
    "\n",
    "#### Ejemplificación"
   ]
  },
  {
   "cell_type": "code",
   "execution_count": 35,
   "metadata": {},
   "outputs": [
    {
     "data": {
      "text/plain": [
       "27"
      ]
     },
     "execution_count": 35,
     "metadata": {},
     "output_type": "execute_result"
    }
   ],
   "source": [
    "suma = lambda a, b: a + b\n",
    "suma(4,5)\n",
    "\n",
    "#Lambda: función como objeto para colocar un valor default\n",
    "def sumatoria(n, fun = (lambda x: x ** 2)):\n",
    "    a = 0\n",
    "    for i in range(n):\n",
    "        a += fun(n)\n",
    "    return a\n",
    "\n",
    "sumatoria(3)\n"
   ]
  }
 ],
 "metadata": {
  "kernelspec": {
   "display_name": "Python 3",
   "language": "python",
   "name": "python3"
  },
  "language_info": {
   "codemirror_mode": {
    "name": "ipython",
    "version": 3
   },
   "file_extension": ".py",
   "mimetype": "text/x-python",
   "name": "python",
   "nbconvert_exporter": "python",
   "pygments_lexer": "ipython3",
   "version": "3.7.4"
  }
 },
 "nbformat": 4,
 "nbformat_minor": 2
}
