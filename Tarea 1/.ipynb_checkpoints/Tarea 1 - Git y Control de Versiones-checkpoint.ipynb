{
 "cells": [
  {
   "cell_type": "markdown",
   "metadata": {},
   "source": [
    "# Git y Control de Versiones\n",
    "\n",
    "####Ensayo acerca de git ,es decir que cada quien entregara un resumen de lo que ha aprendido, conclusiones, comentarios y ejemplos propios(no copy-paste ), esto usando markdown en el notebook , para ejemplificar cualquier comando de git pueden usar \"magic cells\"\n",
    "\n",
    "## Resumen\n",
    "\n",
    "### Qué es Git?\n",
    "\n",
    "Sistema control de versiones (VCSs en inglés) es una herramienta para rastrear los cambios en el código fuente. Este:\n",
    "\n",
    "- Facilita la colaboración \n",
    "- Rastrea cambios dentro de los contenidos de carpetas\n",
    "- Mantiene la metadata para contestar a preguntas básicas/importantes de los archivos\n",
    "    - Quien creó los archivos\n",
    "    - Quien editó los archivos\n",
    "    - Descripción\n",
    "    - Entre otros...\n",
    "- Cualquier persona puede ver tu trabajo\n",
    "    - Puede crear ramas (brancehs) para crear una versión diferente\n",
    "\n",
    "### Cómo funciona?\n",
    "\n",
    "(Desktop)\n",
    "- Galileo <- Folder \"Tree\" \n",
    "    - Tarea.txt <- Files \"blobs\"\n",
    "        - \"todavia falta hacerla :v\"\n",
    "        \n",
    "**Trees** puede contener **Trees** o **blobs**\n",
    "\n",
    "\n",
    "\n",
    "blob\n",
    "snapshots++\n",
    "\n",
    "\n",
    "<a> href=\"https://missing.csail.mit.edu/2020/version-control/\" >Fuente</a>"
   ]
  }
 ],
 "metadata": {
  "kernelspec": {
   "display_name": "Python 3",
   "language": "python",
   "name": "python3"
  },
  "language_info": {
   "codemirror_mode": {
    "name": "ipython",
    "version": 3
   },
   "file_extension": ".py",
   "mimetype": "text/x-python",
   "name": "python",
   "nbconvert_exporter": "python",
   "pygments_lexer": "ipython3",
   "version": "3.7.4"
  }
 },
 "nbformat": 4,
 "nbformat_minor": 2
}
