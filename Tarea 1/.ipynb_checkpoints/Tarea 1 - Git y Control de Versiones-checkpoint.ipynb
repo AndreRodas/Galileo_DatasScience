{
 "cells": [
  {
   "cell_type": "markdown",
   "metadata": {},
   "source": [
    "\n",
    "<a href=\"https://missing.csail.mit.edu/2020/version-control/\" >Fuente</a>"
   ]
  },
  {
   "cell_type": "markdown",
   "metadata": {},
   "source": [
    "# Git y Control de Versiones\n",
    "\n",
    "## Resumen\n",
    "\n",
    "### Qué es Git?\n",
    "\n",
    "Sistema control de versiones (VCSs en inglés) es una herramienta para rastrear los cambios en el código fuente. Este:\n",
    "\n",
    "- Facilita la colaboración \n",
    "- Rastrea cambios dentro de los contenidos de carpetas\n",
    "- Mantiene la metadata para contestar a preguntas básicas/importantes de los archivos\n",
    "    - Quien creó los archivos\n",
    "    - Quien editó los archivos\n",
    "    - Descripción\n",
    "    - Entre otros...\n",
    "- Cualquier persona puede ver tu trabajo\n",
    "    - Puede crear ramas (brancehs) para crear una versión diferente\n",
    "\n",
    "### Cómo funciona?\n",
    "\n",
    "\n",
    "#### Directorio:\n",
    "\n",
    "> (root)\n",
    "> - Galileo <- Folder **Tree** \n",
    ">    - Tarea.txt <- Files **blobs** \n",
    ">        - \"todavia falta hacerla :v\" <- **content**\n",
    "        \n",
    "        \n",
    "Nota: **Trees** puede contener **Trees** o **blobs**\n",
    "\n",
    "Git no es un modelo sencillo que guarda el estado actual. De hecho, utiliza una serie directed acyclic graph (DAG). Donde queda guardado quién es el padre(**s**) del commit (snapshot) y sus cambios. Puedo crear **branches** para crear otras versiones en paralelo. Puedo realizar un **merge** de diferentes archivos. \n",
    "\n",
    "Nota: **Hash** es una función que devuelve un string pequeño del file 'id'. \n",
    "\n",
    "Las referencias de los commits (punteros) los guarda como hashes SHA-1, que luego les asigna un nombre no tan complejo. El **master** apunta al último commit, e.g: último commit de la rama principal. **Head** es donde nos encontramos actualmente. Y los **repositorios** son todos los datos de los objetos y sus referencias.\n",
    " \n",
    " \n",
    "### Áreas\n",
    "\n",
    "Imaginemonos que realizamos ya realizamos un commit para ejemplificar los 3 estados en los que basa Git:\n",
    "\n",
    "- Confirmado (committed)\n",
    "    - Cuando damos **commit** al archivo. Estos ya se encuentan almacenados en la linea de tiempo de Git.\n",
    "- Modificado (modified)\n",
    "    - Es cuando realizamos una modificación al archivo y no lo hemos guardado.\n",
    "- Preparado (staged)\n",
    "    - Indica que se han puesto en cola uno o varios archivos modificados, en su versión actual. Esto mediante el commando **add**. \n",
    "\n",
    "En el siguiente diagrama observamos que pasamos de working directory a staging area mediante el **add**, seleccinando que archivos queremos pasar a la linea temporal. Luego, pasamos a git directory mediante un **commit**, regresando de nuevo al working directory. \n",
    "\n",
    "<img src=\"https://git-scm.com/figures/18333fig0106-tn.png\"/>\n",
    "\n",
    "\n",
    "> **Nota**: La diferencia entre Git y Github es que Git es una herramienta open-sourse para el control de versiones, mientras que Github es un servicio de hosting para repositorios de Git. \n",
    "\n",
    "\n",
    "### Conclusión\n",
    "\n",
    "- Permite realizar un control de versiones legible y rastreable\n",
    "    - Reduciendo la redundancia y la duplicación\n",
    "- Git permite un modelo distribuido\n",
    "    - Permite crear multiples versiones de un archivo en paralelo \"branching\"\n",
    "    - Permite unir estas versiones \"merging\"\n",
    "- Git hace que el trabajo en conjunto flexible\n",
    "    - Dividiendo por módulos los problemas que pueden ser asignados a cada uno del equipo\n",
    "\n",
    "\n",
    "### Comandos de Git"
   ]
  },
  {
   "cell_type": "markdown",
   "metadata": {},
   "source": [
    "Crearemos un archivo"
   ]
  },
  {
   "cell_type": "code",
   "execution_count": 40,
   "metadata": {},
   "outputs": [
    {
     "name": "stdout",
     "output_type": "stream",
     "text": [
      "C:\\prueba\n"
     ]
    }
   ],
   "source": [
    "%mkdir C:\\prueba\n",
    "%cd C:\\prueba\n"
   ]
  },
  {
   "cell_type": "code",
   "execution_count": 41,
   "metadata": {},
   "outputs": [
    {
     "name": "stdout",
     "output_type": "stream",
     "text": [
      " Volume in drive C has no label.\n",
      " Volume Serial Number is 3E76-F11B\n",
      "\n",
      " Directory of C:\\prueba\n",
      "\n",
      "04/03/2020  12:00 AM    <DIR>          .\n",
      "04/03/2020  12:00 AM    <DIR>          ..\n",
      "               0 File(s)              0 bytes\n",
      "               2 Dir(s)  11,635,814,400 bytes free\n"
     ]
    }
   ],
   "source": [
    "!dir"
   ]
  },
  {
   "cell_type": "code",
   "execution_count": 42,
   "metadata": {},
   "outputs": [
    {
     "name": "stdout",
     "output_type": "stream",
     "text": [
      "Initialized empty Git repository in C:/prueba/.git/\n"
     ]
    }
   ],
   "source": [
    "#Crearemos un repositorio en el comando init ahora que ya estamos en la carpeta\n",
    "!git init"
   ]
  },
  {
   "cell_type": "code",
   "execution_count": 43,
   "metadata": {},
   "outputs": [],
   "source": [
    "#Crearemos un archivo con la linea de comando\n",
    "%echo \"parangaricutirimicuaro\" >> text_1.txt\n",
    "\n",
    "#Ese archivo lo vamos a pasar al staging area\n",
    "!git add text_1.txt"
   ]
  },
  {
   "cell_type": "code",
   "execution_count": 44,
   "metadata": {},
   "outputs": [
    {
     "name": "stdout",
     "output_type": "stream",
     "text": [
      "On branch master\n",
      "\n",
      "No commits yet\n",
      "\n",
      "Changes to be committed:\n",
      "  (use \"git rm --cached <file>...\" to unstage)\n",
      "\tnew file:   text_1.txt\n",
      "\n"
     ]
    }
   ],
   "source": [
    "!git status"
   ]
  },
  {
   "cell_type": "code",
   "execution_count": 45,
   "metadata": {
    "scrolled": true
   },
   "outputs": [
    {
     "name": "stdout",
     "output_type": "stream",
     "text": [
      "[master (root-commit) c71c994] text_1\n",
      " 1 file changed, 1 insertion(+)\n",
      " create mode 100644 text_1.txt\n",
      "On branch master\n",
      "nothing to commit, working tree clean\n"
     ]
    }
   ],
   "source": [
    "#Vemos que no existe ningun snapshot, así que vamos a darle commit a nuesto archivo\n",
    "\n",
    "!git commit -m text_1\n",
    "\n",
    "#Veremos que lanza de status ahora\n",
    "!git status"
   ]
  },
  {
   "cell_type": "code",
   "execution_count": 46,
   "metadata": {},
   "outputs": [
    {
     "name": "stdout",
     "output_type": "stream",
     "text": [
      "commit c71c994734d1d576d416c1384a532b95d1dedbe5\n",
      "Author: AndreRodas <andrejosue.rh@gmail.com>\n",
      "Date:   Fri Apr 3 00:01:00 2020 -0600\n",
      "\n",
      "    text_1\n"
     ]
    }
   ],
   "source": [
    "# Para observar los datos de los snapshot podemos utilizar log\n",
    "!git log"
   ]
  },
  {
   "cell_type": "code",
   "execution_count": 47,
   "metadata": {},
   "outputs": [
    {
     "name": "stdout",
     "output_type": "stream",
     "text": [
      "[master 5a9834a] text_2\n",
      " 1 file changed, 1 insertion(+)\n",
      " create mode 100644 text_2.txt\n"
     ]
    }
   ],
   "source": [
    "# Agregamos un texto adicional y la agregamos el snapshot\n",
    "%echo \"parangaricutirimicuaro2\" >> text_2.txt\n",
    "\n",
    "!git add text_2.txt\n",
    "!git commit -m text_2"
   ]
  },
  {
   "cell_type": "code",
   "execution_count": 48,
   "metadata": {},
   "outputs": [
    {
     "name": "stdout",
     "output_type": "stream",
     "text": [
      "commit 5a9834a021278bb7963445ff0bbed40273b2591c\n",
      "Author: AndreRodas <andrejosue.rh@gmail.com>\n",
      "Date:   Fri Apr 3 00:01:01 2020 -0600\n",
      "\n",
      "    text_2\n",
      "\n",
      "commit c71c994734d1d576d416c1384a532b95d1dedbe5\n",
      "Author: AndreRodas <andrejosue.rh@gmail.com>\n",
      "Date:   Fri Apr 3 00:01:00 2020 -0600\n",
      "\n",
      "    text_1\n"
     ]
    }
   ],
   "source": [
    "#Ahora observemos los cambios realizados, veremos que se agregó un nuevo snapshot\n",
    "!git log "
   ]
  },
  {
   "cell_type": "code",
   "execution_count": 49,
   "metadata": {},
   "outputs": [
    {
     "name": "stdout",
     "output_type": "stream",
     "text": [
      "diff --git a/text_2.txt b/text_2.txt\n",
      "index a327c74..b21e09c 100644\n",
      "--- a/text_2.txt\n",
      "+++ b/text_2.txt\n",
      "@@ -1 +1,2 @@\n",
      " \"parangaricutirimicuaro2\" \n",
      "+\"parangaricutirimicuaro2\" \n"
     ]
    }
   ],
   "source": [
    "#Podemos usar el comando diff si queremos ver que cambios han sido realizados\n",
    "%echo \"parangaricutirimicuaro2\" >> text_2.txt\n",
    "!git diff"
   ]
  },
  {
   "cell_type": "code",
   "execution_count": 50,
   "metadata": {},
   "outputs": [],
   "source": [
    "#Ahora que ya realizamos 2 commit, vamos a realizar un branch\n",
    "!git branch branch_1"
   ]
  },
  {
   "cell_type": "code",
   "execution_count": 51,
   "metadata": {},
   "outputs": [
    {
     "name": "stdout",
     "output_type": "stream",
     "text": [
      "  branch_1\n",
      "* master\n"
     ]
    }
   ],
   "source": [
    "#Miremos si creó el branch\n",
    "!git branch"
   ]
  },
  {
   "cell_type": "code",
   "execution_count": 52,
   "metadata": {},
   "outputs": [
    {
     "name": "stdout",
     "output_type": "stream",
     "text": [
      "  branch_1\n",
      "  branch_2\n",
      "* master\n"
     ]
    }
   ],
   "source": [
    "#Crearemos otro branch\n",
    "!git branch branch_2\n",
    "!git branch"
   ]
  },
  {
   "cell_type": "code",
   "execution_count": 53,
   "metadata": {},
   "outputs": [
    {
     "name": "stdout",
     "output_type": "stream",
     "text": [
      "M\ttext_2.txt\n"
     ]
    },
    {
     "name": "stderr",
     "output_type": "stream",
     "text": [
      "Switched to branch 'branch_1'\n"
     ]
    },
    {
     "name": "stdout",
     "output_type": "stream",
     "text": [
      "* branch_1\n",
      "  branch_2\n",
      "  master\n"
     ]
    }
   ],
   "source": [
    "#Vamos a desplazarnos a branch_1 mendiante el comando checkout\n",
    "!git checkout branch_1\n",
    "#Observamos que nos hemos desplazado\n",
    "!git branch"
   ]
  },
  {
   "cell_type": "code",
   "execution_count": 54,
   "metadata": {},
   "outputs": [],
   "source": [
    "#Vamos a agregregar un archivo al branch_1\n",
    "%echo \"parangaricutirimicuaro3\" >> text_3.txt\n",
    "!git add text_3.txt\n"
   ]
  },
  {
   "cell_type": "code",
   "execution_count": 55,
   "metadata": {},
   "outputs": [
    {
     "name": "stdout",
     "output_type": "stream",
     "text": [
      "[branch_1 438dd9e] Ejemplo branch 1\n",
      " 1 file changed, 1 insertion(+)\n",
      " create mode 100644 text_3.txt\n",
      "* commit 438dd9e9ae3d56b73c0087fd755851478f18de89 (HEAD -> branch_1)\n",
      "| Author: AndreRodas <andrejosue.rh@gmail.com>\n",
      "| Date:   Fri Apr 3 00:01:07 2020 -0600\n",
      "| \n",
      "|     Ejemplo branch 1\n",
      "| \n",
      "* commit 5a9834a021278bb7963445ff0bbed40273b2591c (master, branch_2)\n",
      "| Author: AndreRodas <andrejosue.rh@gmail.com>\n",
      "| Date:   Fri Apr 3 00:01:01 2020 -0600\n",
      "| \n",
      "|     text_2\n",
      "| \n",
      "* commit c71c994734d1d576d416c1384a532b95d1dedbe5\n",
      "  Author: AndreRodas <andrejosue.rh@gmail.com>\n",
      "  Date:   Fri Apr 3 00:01:00 2020 -0600\n",
      "  \n",
      "      text_1\n"
     ]
    }
   ],
   "source": [
    "#Lo agregamos al repositorio\n",
    "!git commit -m \"Ejemplo branch 1\"\n",
    "#Mostramos la gráfica\n",
    "!git log --all --graph --decorate"
   ]
  },
  {
   "cell_type": "code",
   "execution_count": 56,
   "metadata": {},
   "outputs": [
    {
     "name": "stdout",
     "output_type": "stream",
     "text": [
      "M\ttext_2.txt\n"
     ]
    },
    {
     "name": "stderr",
     "output_type": "stream",
     "text": [
      "Switched to branch 'branch_2'\n"
     ]
    },
    {
     "name": "stdout",
     "output_type": "stream",
     "text": [
      "[branch_2 85740be] Ejemplo branch 2\n",
      " 1 file changed, 1 insertion(+)\n",
      " create mode 100644 text_3.txt\n",
      "* commit 85740bec622f31221ce3f55c359bdabce35dc622 (HEAD -> branch_2)\n",
      "| Author: AndreRodas <andrejosue.rh@gmail.com>\n",
      "| Date:   Fri Apr 3 00:01:08 2020 -0600\n",
      "| \n",
      "|     Ejemplo branch 2\n",
      "|   \n",
      "| * commit 438dd9e9ae3d56b73c0087fd755851478f18de89 (branch_1)\n",
      "|/  Author: AndreRodas <andrejosue.rh@gmail.com>\n",
      "|   Date:   Fri Apr 3 00:01:07 2020 -0600\n",
      "|   \n",
      "|       Ejemplo branch 1\n",
      "| \n",
      "* commit 5a9834a021278bb7963445ff0bbed40273b2591c (master)\n",
      "| Author: AndreRodas <andrejosue.rh@gmail.com>\n",
      "| Date:   Fri Apr 3 00:01:01 2020 -0600\n",
      "| \n",
      "|     text_2\n",
      "| \n",
      "* commit c71c994734d1d576d416c1384a532b95d1dedbe5\n",
      "  Author: AndreRodas <andrejosue.rh@gmail.com>\n",
      "  Date:   Fri Apr 3 00:01:00 2020 -0600\n",
      "  \n",
      "      text_1\n"
     ]
    }
   ],
   "source": [
    "#Vamos a repetir los pasos anterior esta vez para observar con log cómo se genero el nuevo branch\n",
    "!git checkout branch_2\n",
    "%echo \"nuevo-texto\" >> text_3.txt\n",
    "!git add text_3.txt\n",
    "!git commit -m \"Ejemplo branch 2\"\n",
    "!git log --all --graph --decorate"
   ]
  },
  {
   "cell_type": "code",
   "execution_count": 57,
   "metadata": {},
   "outputs": [
    {
     "name": "stdout",
     "output_type": "stream",
     "text": [
      "M\ttext_2.txt\n"
     ]
    },
    {
     "name": "stderr",
     "output_type": "stream",
     "text": [
      "Switched to branch 'branch_1'\n"
     ]
    },
    {
     "name": "stdout",
     "output_type": "stream",
     "text": [
      "CONFLICT (add/add): Merge conflict in text_3.txt\n",
      "Auto-merging text_3.txt\n",
      "Automatic merge failed; fix conflicts and then commit the result.\n"
     ]
    },
    {
     "name": "stderr",
     "output_type": "stream",
     "text": [
      "error: unknown switch `b'\n",
      "usage: git commit [<options>] [--] <pathspec>...\n",
      "\n",
      "    -q, --quiet           suppress summary after successful commit\n",
      "    -v, --verbose         show diff in commit message template\n",
      "\n",
      "Commit message options\n",
      "    -F, --file <file>     read message from file\n",
      "    --author <author>     override author for commit\n",
      "    --date <date>         override date for commit\n",
      "    -m, --message <message>\n",
      "                          commit message\n",
      "    -c, --reedit-message <commit>\n",
      "                          reuse and edit message from specified commit\n",
      "    -C, --reuse-message <commit>\n",
      "                          reuse message from specified commit\n",
      "    --fixup <commit>      use autosquash formatted message to fixup specified commit\n",
      "    --squash <commit>     use autosquash formatted message to squash specified commit\n",
      "    --reset-author        the commit is authored by me now (used with -C/-c/--amend)\n",
      "    -s, --signoff         add Signed-off-by:\n",
      "    -t, --template <file>\n",
      "                          use specified template file\n",
      "    -e, --edit            force edit of commit\n",
      "    --cleanup <mode>      how to strip spaces and #comments from message\n",
      "    --status              include status in commit message template\n",
      "    -S, --gpg-sign[=<key-id>]\n",
      "                          GPG sign commit\n",
      "\n",
      "Commit contents options\n",
      "    -a, --all             commit all changed files\n",
      "    -i, --include         add specified files to index for commit\n",
      "    --interactive         interactively add files\n",
      "    -p, --patch           interactively add changes\n",
      "    -o, --only            commit only specified files\n",
      "    -n, --no-verify       bypass pre-commit and commit-msg hooks\n",
      "    --dry-run             show what would be committed\n",
      "    --short               show status concisely\n",
      "    --branch              show branch information\n",
      "    --ahead-behind        compute full ahead/behind values\n",
      "    --porcelain           machine-readable output\n",
      "    --long                show status in long format (default)\n",
      "    -z, --null            terminate entries with NUL\n",
      "    --amend               amend previous commit\n",
      "    --no-post-rewrite     bypass post-rewrite hook\n",
      "    -u, --untracked-files[=<mode>]\n",
      "                          show untracked files, optional modes: all, normal, no. (Default: all)\n",
      "\n"
     ]
    },
    {
     "name": "stdout",
     "output_type": "stream",
     "text": [
      "* commit 85740bec622f31221ce3f55c359bdabce35dc622 (branch_2)\n",
      "| Author: AndreRodas <andrejosue.rh@gmail.com>\n",
      "| Date:   Fri Apr 3 00:01:08 2020 -0600\n",
      "| \n",
      "|     Ejemplo branch 2\n",
      "|   \n",
      "| * commit 438dd9e9ae3d56b73c0087fd755851478f18de89 (HEAD -> branch_1)\n",
      "|/  Author: AndreRodas <andrejosue.rh@gmail.com>\n",
      "|   Date:   Fri Apr 3 00:01:07 2020 -0600\n",
      "|   \n",
      "|       Ejemplo branch 1\n",
      "| \n",
      "* commit 5a9834a021278bb7963445ff0bbed40273b2591c (master)\n",
      "| Author: AndreRodas <andrejosue.rh@gmail.com>\n",
      "| Date:   Fri Apr 3 00:01:01 2020 -0600\n",
      "| \n",
      "|     text_2\n",
      "| \n",
      "* commit c71c994734d1d576d416c1384a532b95d1dedbe5\n",
      "  Author: AndreRodas <andrejosue.rh@gmail.com>\n",
      "  Date:   Fri Apr 3 00:01:00 2020 -0600\n",
      "  \n",
      "      text_1\n"
     ]
    }
   ],
   "source": [
    "#Ahora nos desplazamos al branch_1\n",
    "!git checkout branch_1\n",
    "#Con el comando merge podemos el contenido del branch_1 con el del branch_2\n",
    "!git merge branch_2\n",
    "!git commit -branch_1\n",
    "!git log --all --graph --decorate"
   ]
  },
  {
   "cell_type": "markdown",
   "metadata": {},
   "source": [
    "Observamos que tenemos un error, esto es muy común y es necesario entrar a la línea de comandos de git para modificarlo ya que no siempre git podrá unir los contenidos. \n",
    "\n",
    "Existe otra cantidad de funciones en Git que permiten el trabajo de versiones y el trabajo en equipo menos complicado. Es una herramienta poderosa e importante para el desarrollo. "
   ]
  }
 ],
 "metadata": {
  "kernelspec": {
   "display_name": "Python 3",
   "language": "python",
   "name": "python3"
  },
  "language_info": {
   "codemirror_mode": {
    "name": "ipython",
    "version": 3
   },
   "file_extension": ".py",
   "mimetype": "text/x-python",
   "name": "python",
   "nbconvert_exporter": "python",
   "pygments_lexer": "ipython3",
   "version": "3.7.4"
  }
 },
 "nbformat": 4,
 "nbformat_minor": 2
}
