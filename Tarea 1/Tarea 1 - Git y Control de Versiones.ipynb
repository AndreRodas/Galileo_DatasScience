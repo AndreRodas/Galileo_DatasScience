{
 "cells": [
  {
   "cell_type": "markdown",
   "metadata": {},
   "source": [
    "# Git y Control de Versiones\n",
    "\n",
    "####Ensayo acerca de git ,es decir que cada quien entregara un resumen de lo que ha aprendido, conclusiones, comentarios y ejemplos propios(no copy-paste ), esto usando markdown en el notebook , para ejemplificar cualquier comando de git pueden usar \"magic cells\"\n",
    "\n",
    "## Resumen\n",
    "\n",
    "- asdas\n",
    "    - asda\n",
    "- asdfa\n",
    "    - asdafs\n",
    "        - dasd\n",
    "\n",
    "\n",
    "<a> href=\"https://missing.csail.mit.edu/2020/version-control/\" >Fuente</a>"
   ]
  }
 ],
 "metadata": {
  "kernelspec": {
   "display_name": "Python 3",
   "language": "python",
   "name": "python3"
  },
  "language_info": {
   "codemirror_mode": {
    "name": "ipython",
    "version": 3
   },
   "file_extension": ".py",
   "mimetype": "text/x-python",
   "name": "python",
   "nbconvert_exporter": "python",
   "pygments_lexer": "ipython3",
   "version": "3.7.4"
  }
 },
 "nbformat": 4,
 "nbformat_minor": 2
}
