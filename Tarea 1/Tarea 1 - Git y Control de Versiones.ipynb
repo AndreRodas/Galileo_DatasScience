{
 "cells": [
  {
   "cell_type": "markdown",
   "metadata": {},
   "source": [
    "\n",
    "<a href=\"https://missing.csail.mit.edu/2020/version-control/\" >Fuente</a>"
   ]
  },
  {
   "cell_type": "markdown",
   "metadata": {},
   "source": [
    "# Git y Control de Versiones\n",
    "\n",
    "## Resumen\n",
    "\n",
    "### Qué es Git?\n",
    "\n",
    "Sistema control de versiones (VCSs en inglés) es una herramienta para rastrear los cambios en el código fuente. Este:\n",
    "\n",
    "- Facilita la colaboración \n",
    "- Rastrea cambios dentro de los contenidos de carpetas\n",
    "- Mantiene la metadata para contestar a preguntas básicas/importantes de los archivos\n",
    "    - Quien creó los archivos\n",
    "    - Quien editó los archivos\n",
    "    - Descripción\n",
    "    - Entre otros...\n",
    "- Cualquier persona puede ver tu trabajo\n",
    "    - Puede crear ramas (brancehs) para crear una versión diferente\n",
    "\n",
    "### Cómo funciona?\n",
    "\n",
    "\n",
    "#### Directorio:\n",
    "\n",
    "> (root)\n",
    "> - Galileo <- Folder **Tree** \n",
    ">    - Tarea.txt <- Files **blobs** \n",
    ">        - \"todavia falta hacerla :v\" <- **content**\n",
    "        \n",
    "        \n",
    "Nota: **Trees** puede contener **Trees** o **blobs**\n",
    "\n",
    "Git no es un modelo sencillo que guarda el estado actual. De hecho, utiliza una serie directed acyclic graph (DAG). Donde queda guardado quién es el padre(**s**) del commit (snapshot) y sus cambios. Puedo crear **branches** para crear otras versiones en paralelo. Puedo realizar un **merge** de diferentes archivos. \n",
    "\n",
    "Nota: **Hash** es una función que devuelve un string pequeño del file 'id'. \n",
    "\n",
    "Las referencias de los commits (punteros) los guarda como hashes SHA-1, que luego les asigna un nombre no tan complejo. El **master** apunta al último commit, e.g: último commit de la rama principal. **Head** es donde nos encontramos actualmente. Y los **repositorios** son todos los datos de los objetos y sus referencias.\n",
    " \n",
    " \n",
    "### Áreas\n",
    "\n",
    "Imaginemonos que realizamos ya realizamos un commit para ejemplificar los 3 estados en los que basa Git:\n",
    "\n",
    "- Confirmado (committed)\n",
    "    - Cuando damos **commit** al archivo. Estos ya se encuentan almacenados en la linea de tiempo de Git.\n",
    "- Modificado (modified)\n",
    "    - Es cuando realizamos una modificación al archivo y no lo hemos guardado.\n",
    "- Preparado (staged)\n",
    "    - Indica que se han puesto en cola uno o varios archivos modificados, en su versión actual. Esto mediante el commando **add**. \n",
    "\n",
    "En el siguiente diagrama observamos que pasamos de working directory a staging area mediante el **add**, seleccinando que archivos queremos pasar a la linea temporal. Luego, pasamos a git directory mediante un **commit**, regresando de nuevo al working directory. \n",
    "\n",
    "<img src=\"https://git-scm.com/figures/18333fig0106-tn.png\"/>\n",
    "\n",
    "\n",
    "> **Nota**: La diferencia entre Git y Github es que Git es una herramienta open-sourse para el control de versiones, mientras que Github es un servicio de hosting para repositorios de Git. \n",
    "\n",
    "\n",
    "### Conclusión\n",
    "\n",
    "- Permite realizar un control de versiones legible y rastreable\n",
    "    - Reduciendo la redundancia y la duplicación\n",
    "- Git permite un modelo distribuido\n",
    "    - Permite crear multiples versiones de un archivo en paralelo \"branching\"\n",
    "    - Permite unir estas versiones \"merging\"\n",
    "- Git hace que el trabajo en conjunto flexible\n",
    "    - Dividiendo por módulos los problemas que pueden ser asignados a cada uno del equipo\n",
    "\n",
    "\n",
    "### Comandos de Git"
   ]
  },
  {
   "cell_type": "markdown",
   "metadata": {},
   "source": [
    "Crearemos un archivo"
   ]
  },
  {
   "cell_type": "code",
   "execution_count": 18,
   "metadata": {},
   "outputs": [
    {
     "name": "stdout",
     "output_type": "stream",
     "text": [
      "C:\\test_1\n"
     ]
    }
   ],
   "source": [
    "%mkdir C:\\test_1\n",
    "%cd C:\\test_1\n"
   ]
  },
  {
   "cell_type": "code",
   "execution_count": 19,
   "metadata": {},
   "outputs": [
    {
     "name": "stdout",
     "output_type": "stream",
     "text": [
      " Volume in drive C has no label.\n",
      " Volume Serial Number is 3E76-F11B\n",
      "\n",
      " Directory of C:\\test_1\n",
      "\n",
      "04/02/2020  10:28 PM    <DIR>          .\n",
      "04/02/2020  10:28 PM    <DIR>          ..\n",
      "               0 File(s)              0 bytes\n",
      "               2 Dir(s)  11,584,843,776 bytes free\n"
     ]
    }
   ],
   "source": [
    "!dir"
   ]
  },
  {
   "cell_type": "code",
   "execution_count": 20,
   "metadata": {},
   "outputs": [
    {
     "name": "stdout",
     "output_type": "stream",
     "text": [
      "Initialized empty Git repository in C:/test_1/.git/\n"
     ]
    }
   ],
   "source": [
    "#Crearemos un repositorio en el comando init ahora que ya estamos en la carpeta\n",
    "!git init"
   ]
  },
  {
   "cell_type": "code",
   "execution_count": 21,
   "metadata": {},
   "outputs": [],
   "source": [
    "#Crearemos un archivo con la linea de comando\n",
    "%echo \"parangaricutirimicuaro\" >> text_1.txt\n",
    "\n",
    "#Ese archivo lo vamos a pasar al staging area\n",
    "!git add text_1.txt"
   ]
  },
  {
   "cell_type": "code",
   "execution_count": 22,
   "metadata": {},
   "outputs": [
    {
     "name": "stdout",
     "output_type": "stream",
     "text": [
      "On branch master\n",
      "\n",
      "No commits yet\n",
      "\n",
      "Changes to be committed:\n",
      "  (use \"git rm --cached <file>...\" to unstage)\n",
      "\tnew file:   text_1.txt\n",
      "\n"
     ]
    }
   ],
   "source": [
    "!git status"
   ]
  },
  {
   "cell_type": "code",
   "execution_count": 23,
   "metadata": {
    "scrolled": true
   },
   "outputs": [
    {
     "name": "stdout",
     "output_type": "stream",
     "text": [
      "[master (root-commit) 5b105a3] text_1.txt\n",
      " 1 file changed, 1 insertion(+)\n",
      " create mode 100644 text_1.txt\n",
      "On branch master\n",
      "nothing to commit, working tree clean\n"
     ]
    }
   ],
   "source": [
    "#Vemos que no existe ningun snapshot, así que vamos a darle commit a nuesto archivo\n",
    "\n",
    "!git commit -m \"text_1.txt\"\n",
    "\n",
    "#Veremos que lanza de status ahora\n",
    "!git status"
   ]
  },
  {
   "cell_type": "code",
   "execution_count": 24,
   "metadata": {},
   "outputs": [
    {
     "name": "stdout",
     "output_type": "stream",
     "text": [
      "commit 5b105a350485950ceb5dd2719c567dcf474b63fb\n",
      "Author: AndreRodas <andrejosue.rh@gmail.com>\n",
      "Date:   Thu Apr 2 22:28:14 2020 -0600\n",
      "\n",
      "    text_1.txt\n"
     ]
    }
   ],
   "source": [
    "# Para observar los datos de los snapshot podemos utilizar log\n",
    "!git log"
   ]
  },
  {
   "cell_type": "code",
   "execution_count": 31,
   "metadata": {},
   "outputs": [
    {
     "name": "stdout",
     "output_type": "stream",
     "text": [
      "[master 84a9fd1] text_2.txt\n",
      " 1 file changed, 1 insertion(+)\n",
      " create mode 100644 text_2.txt\n"
     ]
    }
   ],
   "source": [
    "# Agregamos un texto adicional y la agregamos el snapshot\n",
    "%echo \"parangaricutirimicuaro2\" >> text_2.txt\n",
    "\n",
    "!git add text_2.txt\n",
    "!git commit -m \"text_2.txt\""
   ]
  },
  {
   "cell_type": "code",
   "execution_count": 33,
   "metadata": {},
   "outputs": [
    {
     "name": "stdout",
     "output_type": "stream",
     "text": [
      "commit 84a9fd14af5044ec485d1b3fd35f26fcd4071344\n",
      "Author: AndreRodas <andrejosue.rh@gmail.com>\n",
      "Date:   Thu Apr 2 22:31:18 2020 -0600\n",
      "\n",
      "    text_2.txt\n",
      "\n",
      "commit 5b105a350485950ceb5dd2719c567dcf474b63fb\n",
      "Author: AndreRodas <andrejosue.rh@gmail.com>\n",
      "Date:   Thu Apr 2 22:28:14 2020 -0600\n",
      "\n",
      "    text_1.txt\n"
     ]
    }
   ],
   "source": [
    "#Ahora observemos los cambios realizados, veremos que se agregó un nuevo snapshot\n",
    "!git log "
   ]
  },
  {
   "cell_type": "code",
   "execution_count": 34,
   "metadata": {},
   "outputs": [
    {
     "name": "stdout",
     "output_type": "stream",
     "text": [
      "diff --git a/text_1.txt b/text_1.txt\n",
      "index 035cada..9453d2b 100644\n",
      "--- a/text_1.txt\n",
      "+++ b/text_1.txt\n",
      "@@ -1 +1,5 @@\n",
      " \"parangaricutirimicuaro\" \n",
      "+\"parangaricutirimicuaro\" \n",
      "+\"parangaricutirimicuaro\" \n",
      "+\"parangaricutirimicuaro\" \n",
      "+\"parangaricutirimicuaro\" \n"
     ]
    }
   ],
   "source": [
    "#Podemos usar el comando diff si queremos ver que cambios han sido realizados\n",
    "!git diff"
   ]
  },
  {
   "cell_type": "code",
   "execution_count": 35,
   "metadata": {},
   "outputs": [],
   "source": [
    "#Ahora que ya realizamos 2 commit, vamos a realizar un branch, para ello agregaré un nuevo archivo\n",
    "%echo \"parangaricutirimicuaro3\" >> text_3.txt\n",
    "\n",
    "!git add text_3.txt\n",
    "!git branch \"text_3_branch.txt\""
   ]
  },
  {
   "cell_type": "code",
   "execution_count": 38,
   "metadata": {},
   "outputs": [
    {
     "name": "stdout",
     "output_type": "stream",
     "text": [
      "* master\n",
      "  text_3_branch.txt\n"
     ]
    }
   ],
   "source": [
    "!git branch"
   ]
  }
 ],
 "metadata": {
  "kernelspec": {
   "display_name": "Python 3",
   "language": "python",
   "name": "python3"
  },
  "language_info": {
   "codemirror_mode": {
    "name": "ipython",
    "version": 3
   },
   "file_extension": ".py",
   "mimetype": "text/x-python",
   "name": "python",
   "nbconvert_exporter": "python",
   "pygments_lexer": "ipython3",
   "version": "3.7.4"
  }
 },
 "nbformat": 4,
 "nbformat_minor": 2
}
