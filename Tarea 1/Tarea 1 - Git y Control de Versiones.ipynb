{
 "cells": [
  {
   "cell_type": "markdown",
   "metadata": {},
   "source": [
    "# Git y Control de Versiones\n",
    "\n",
    "####Ensayo acerca de git ,es decir que cada quien entregara un resumen de lo que ha aprendido, conclusiones, comentarios y ejemplos propios(no copy-paste ), esto usando markdown en el notebook , para ejemplificar cualquier comando de git pueden usar \"magic cells\"\n",
    "\n",
    "## Resumen\n",
    "\n",
    "### Qué es Git?\n",
    "\n",
    "Sistema control de versiones (VCSs en inglés) es una herramienta para rastrear los cambios en el código fuente. Este:\n",
    "\n",
    "- Facilita la colaboración \n",
    "- Rastrea cambios dentro de los contenidos de carpetas\n",
    "- Mantiene la metadata para contestar a preguntas básicas/importantes de los archivos\n",
    "    - Quien creó los archivos\n",
    "    - Quien editó los archivos\n",
    "    - Descripción\n",
    "    - Entre otros...\n",
    "- Cualquier persona puede ver tu trabajo\n",
    "    - Puede crear ramas (brancehs) para crear una versión diferente\n",
    "\n",
    "### Cómo funciona?\n",
    "\n",
    "\n",
    "#### Directorio:\n",
    "\n",
    "> (root)\n",
    "> - Galileo <- Folder **Tree** \n",
    ">    - Tarea.txt <- Files **blobs** \n",
    ">        - \"todavia falta hacerla :v\" <- **content**\n",
    "        \n",
    "        \n",
    "Nota: **Trees** puede contener **Trees** o **blobs**\n",
    "\n",
    "Git no es un modelo sencillo que guarda el estado actual. De hecho, utiliza una serie directed acyclic graph (DAG). Donde queda guardado quién es el padre**s** del commit (snapshot) y sus cambios. Puedo crear **branches** para crear otras versiones en paralelo. Puedo realizar un **merge** de diferentes archivos. \n",
    "\n",
    "Nota: **Hash** es una función que devuelve un string pequeño del file 'id'. \n",
    "\n",
    "\n",
    "git init # inicializar \n",
    "\n",
    " \n",
    "\n",
    "\n",
    "blob\n",
    "snapshots++\n",
    "\n",
    "\n",
    "<a> href=\"https://missing.csail.mit.edu/2020/version-control/\" >Fuente</a>"
   ]
  }
 ],
 "metadata": {
  "kernelspec": {
   "display_name": "Python 3",
   "language": "python",
   "name": "python3"
  },
  "language_info": {
   "codemirror_mode": {
    "name": "ipython",
    "version": 3
   },
   "file_extension": ".py",
   "mimetype": "text/x-python",
   "name": "python",
   "nbconvert_exporter": "python",
   "pygments_lexer": "ipython3",
   "version": "3.7.4"
  }
 },
 "nbformat": 4,
 "nbformat_minor": 2
}
